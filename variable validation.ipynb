{
 "cells": [
  {
   "cell_type": "code",
   "execution_count": 5,
   "id": "f783978a",
   "metadata": {},
   "outputs": [],
   "source": [
    "import pandas as pd\n",
    "media_factor = pd.read_excel('variable.xlsx', engine='openpyxl', sheet_name=\"Media Factors\")\n",
    "non_media_factor = pd.read_excel('variable.xlsx', engine='openpyxl', sheet_name=\"Non-Media Factors\")"
   ]
  },
  {
   "cell_type": "code",
   "execution_count": 12,
   "id": "6505c1bf",
   "metadata": {},
   "outputs": [],
   "source": [
    "def validate_variable_sheet(media_factor = None, non_media_factor = None):\n",
    "    if not media_factor.empty or not non_media_factor.empty:\n",
    "        ###################################################################################################\n",
    "        #                                   Media Sheet Validation                                        #\n",
    "        ###################################################################################################\n",
    "        media_df=media_factor[media_factor['Use'].apply(lambda x: isinstance(x, str))] \n",
    "        if ~media_factor['Use'].isin(['Y', 'N']).all():\n",
    "            print('{col} variable should be Y/N'.format(col=media_factor['Use']))\n",
    "            \n",
    "        media_df1 = media_df[media_df['Use'] == 'Y']\n",
    "        if not media_df1.empty:\n",
    "            media_unique = media_df1.set_index(['Period Name','Media Category','Media Subcategory','Independent Products', ]).index.is_unique\n",
    "            if media_unique == False:\n",
    "                print(\"This combination \")\n",
    "                \n",
    "                \n",
    "        ###################################################################################################\n",
    "        #                                   non-Media Sheet Validation                                        #\n",
    "        ###################################################################################################\n",
    "        non_media_df=non_media_factor[non_media_factor['Use'].apply(lambda x: isinstance(x, str))] \n",
    "        if ~non_media_df['Use'].isin(['Y', 'N']).all():\n",
    "            print('{col} variable should be Y/N'.format(col=non_media_df['Use']))\n",
    "            \n",
    "        non_media_df1 = non_media_df[non_media_df['Use'] == 'Y']\n",
    "        if not non_media_df1.empty:\n",
    "            non_media_unique = non_media_df1.set_index(['Period Name','Non-Media Category','Non-Media Subcategory','Dependent Product', ]).index.is_unique\n",
    "            if non_media_unique == False:\n",
    "                print(\"This combination \")\n",
    "    else:\n",
    "        raise Exception(\"There is an issue in the data of the uploaded file,\"\n",
    "                        \"please try again\")"
   ]
  },
  {
   "cell_type": "code",
   "execution_count": 13,
   "id": "8f6ad0c5",
   "metadata": {},
   "outputs": [],
   "source": [
    "validate_variable_sheet(media_factor,non_media_factor)\n"
   ]
  },
  {
   "cell_type": "code",
   "execution_count": 11,
   "id": "ca35c196",
   "metadata": {},
   "outputs": [
    {
     "data": {
      "text/plain": [
       "Index(['Period Name', 'Non-Media Category', 'Non-Media Subcategory',\n",
       "       'Dependent Product', 'Use'],\n",
       "      dtype='object')"
      ]
     },
     "execution_count": 11,
     "metadata": {},
     "output_type": "execute_result"
    }
   ],
   "source": [
    "non_media_factor.columns"
   ]
  },
  {
   "cell_type": "code",
   "execution_count": null,
   "id": "851538de",
   "metadata": {},
   "outputs": [],
   "source": [
    "\n",
    "        "
   ]
  }
 ],
 "metadata": {
  "kernelspec": {
   "display_name": "Python 3 (ipykernel)",
   "language": "python",
   "name": "python3"
  },
  "language_info": {
   "codemirror_mode": {
    "name": "ipython",
    "version": 3
   },
   "file_extension": ".py",
   "mimetype": "text/x-python",
   "name": "python",
   "nbconvert_exporter": "python",
   "pygments_lexer": "ipython3",
   "version": "3.7.0"
  }
 },
 "nbformat": 4,
 "nbformat_minor": 5
}
