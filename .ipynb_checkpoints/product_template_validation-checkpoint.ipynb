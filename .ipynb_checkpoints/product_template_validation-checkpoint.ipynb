{
 "cells": [
  {
   "cell_type": "code",
   "execution_count": 215,
   "id": "d7b22dde",
   "metadata": {},
   "outputs": [],
   "source": [
    "import pandas as pd"
   ]
  },
  {
   "cell_type": "code",
   "execution_count": 216,
   "id": "4cabb74a",
   "metadata": {},
   "outputs": [],
   "source": [
    "ind_prod = pd.read_excel('product.xlsx', engine='openpyxl', sheet_name=\"Independent Products\")\n",
    "dep_prod = pd.read_excel('product.xlsx', engine='openpyxl', sheet_name=\"Dependent Products\")\n",
    "i2d_prod = pd.read_excel('product.xlsx', engine='openpyxl', sheet_name=\"Independent to Dependent\")"
   ]
  },
  {
   "cell_type": "code",
   "execution_count": 217,
   "id": "802ffe34",
   "metadata": {},
   "outputs": [
    {
     "data": {
      "text/plain": [
       "Index(['Independent Products', 'Dependent Products', 'Include',\n",
       "       'Direct & Halo'],\n",
       "      dtype='object')"
      ]
     },
     "execution_count": 217,
     "metadata": {},
     "output_type": "execute_result"
    }
   ],
   "source": [
    "i2d_prod.columns"
   ]
  },
  {
   "cell_type": "code",
   "execution_count": 218,
   "id": "7911ec55",
   "metadata": {},
   "outputs": [],
   "source": [
    "def validate_products(independent = None, dependent = None, i2d = None):\n",
    "    if not independent.empty or not dependent.empty or not i2d.empty:\n",
    "#         Validation for independent\n",
    "        ind_dtype = independent[independent['Independent Products'].apply(lambda x: isinstance(x, str))]\n",
    "        if len(independent['Independent Products']) > len(ind_dtype):\n",
    "            print('dataframe Should be string data type')\n",
    "            \n",
    "        ind_unique = independent[independent['Independent Products'].duplicated()]\n",
    "        if not ind_unique.empty:\n",
    "            print('Indipendent value is not unique')\n",
    "            \n",
    "#         validation for dependent\n",
    "        dep_dtype = dependent[dependent['Dependent Products'].apply(lambda x: isinstance(x, str))]\n",
    "        if len(dependent['Dependent Products']) > len(dep_dtype):\n",
    "            print('dataframe Should be string data type')\n",
    "            \n",
    "        dep_unique = dependent[dependent['Dependent Products'].duplicated()]\n",
    "        if not dep_unique.empty:\n",
    "            print('Indipendent value is not unique it should be unique')\n",
    "            \n",
    "#      validation for independent to dependent\n",
    "        for col in i2d_prod.columns:\n",
    "            include_dtype=i2d_prod[i2d_prod[col].apply(lambda x: isinstance(x, str))]\n",
    "            if ~include_dtype[col].isin(['Y', 'N']).all():\n",
    "                print('{col} should be Y/N'.format(col=col))\n",
    "                \n"
   ]
  },
  {
   "cell_type": "code",
   "execution_count": 219,
   "id": "1a3738b1",
   "metadata": {},
   "outputs": [
    {
     "name": "stdout",
     "output_type": "stream",
     "text": [
      "dataframe Should be string data type\n",
      "Indipendent value is not unique\n",
      "dataframe Should be string data type\n",
      "Indipendent value is not unique it should be unique\n",
      "Include should be Y/N\n",
      "=========dataframe Should be string data type\n",
      "======dataframe Should be string data type\n",
      "=======dataframe Should be string data type\n"
     ]
    }
   ],
   "source": [
    "validate_products(ind_prod, dep_prod, i2d_prod)"
   ]
  },
  {
   "cell_type": "code",
   "execution_count": null,
   "id": "a8d59423",
   "metadata": {},
   "outputs": [],
   "source": []
  }
 ],
 "metadata": {
  "kernelspec": {
   "display_name": "Python 3 (ipykernel)",
   "language": "python",
   "name": "python3"
  },
  "language_info": {
   "codemirror_mode": {
    "name": "ipython",
    "version": 3
   },
   "file_extension": ".py",
   "mimetype": "text/x-python",
   "name": "python",
   "nbconvert_exporter": "python",
   "pygments_lexer": "ipython3",
   "version": "3.7.0"
  }
 },
 "nbformat": 4,
 "nbformat_minor": 5
}
