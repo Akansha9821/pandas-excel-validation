{
 "cells": [
  {
   "cell_type": "code",
   "execution_count": 23,
   "id": "c54b4a5c",
   "metadata": {},
   "outputs": [],
   "source": [
    "import pandas as pd\n",
    "media_factor = pd.read_excel('variable.xlsx', engine='openpyxl', sheet_name=\"Media Factors\")\n",
    "non_media_factor = pd.read_excel('variable.xlsx', engine='openpyxl', sheet_name=\"Non-Media Factors\")"
   ]
  },
  {
   "cell_type": "code",
   "execution_count": 46,
   "id": "6c52da5f",
   "metadata": {},
   "outputs": [],
   "source": [
    "def validate_variable_sheet(media_factor = None, non_media_factor = None):\n",
    "    if not media_factor.empty or not non_media_factor.empty:\n",
    "        df = media_factor[media_factor['Use'] == 'Y']\n",
    "        if not df.empty:\n",
    "            df.set_index(['A','B']).index.is_unique"
   ]
  },
  {
   "cell_type": "code",
   "execution_count": 47,
   "id": "4c60944b",
   "metadata": {},
   "outputs": [
    {
     "name": "stdout",
     "output_type": "stream",
     "text": [
      "     Period Name Media Category Media Subcategory Independent Products Use\n",
      "2           2020         Cinema            Cinema                  S90   Y\n",
      "9           2020        Display     Local Display              Branded   Y\n",
      "10          2020        Display     Local Display                  S60   Y\n",
      "11          2020        Display     Local Display                  S90   Y\n",
      "13          2020        Display     Local Display                  V60   Y\n",
      "..           ...            ...               ...                  ...  ..\n",
      "191         2020             TV           Spot TV                  S90   Y\n",
      "192         2020             TV           Spot TV           SUV Series   Y\n",
      "195         2020             TV           Spot TV                 XC40   Y\n",
      "196         2020             TV           Spot TV                 XC60   Y\n",
      "197         2020             TV           Spot TV                 XC90   Y\n",
      "\n",
      "[88 rows x 5 columns]\n"
     ]
    }
   ],
   "source": [
    "validate_variable_sheet(media_factor)\n"
   ]
  },
  {
   "cell_type": "markdown",
   "id": "7868c032",
   "metadata": {},
   "source": [
    "media_factor"
   ]
  }
 ],
 "metadata": {
  "kernelspec": {
   "display_name": "Python 3 (ipykernel)",
   "language": "python",
   "name": "python3"
  },
  "language_info": {
   "codemirror_mode": {
    "name": "ipython",
    "version": 3
   },
   "file_extension": ".py",
   "mimetype": "text/x-python",
   "name": "python",
   "nbconvert_exporter": "python",
   "pygments_lexer": "ipython3",
   "version": "3.7.0"
  }
 },
 "nbformat": 4,
 "nbformat_minor": 5
}
