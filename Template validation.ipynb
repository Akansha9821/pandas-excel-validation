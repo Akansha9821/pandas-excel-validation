{
 "cells": [
  {
   "cell_type": "code",
   "execution_count": 509,
   "id": "366d5647",
   "metadata": {},
   "outputs": [],
   "source": [
    "import pandas as pd\n",
    "import re\n"
   ]
  },
  {
   "cell_type": "code",
   "execution_count": 518,
   "id": "b668b231",
   "metadata": {},
   "outputs": [],
   "source": [
    "media_variable_cpp = pd.read_excel('Client-A.xlsx', engine='openpyxl', sheet_name=\"Media Variable CPP\")"
   ]
  },
  {
   "cell_type": "code",
   "execution_count": 519,
   "id": "c2de456a",
   "metadata": {},
   "outputs": [],
   "source": [
    "media_cpp = pd.read_excel('Client-A.xlsx', engine='openpyxl', sheet_name=\"Weekly CPP\")"
   ]
  },
  {
   "cell_type": "code",
   "execution_count": 546,
   "id": "7be32d42",
   "metadata": {},
   "outputs": [],
   "source": [
    "def validate_sheet(media_variable = None, media_cpp= None):\n",
    "    if not media_variable.empty or not media_cpp.empty:\n",
    "    #     Validation for Fixed curve type\n",
    "        if (media_variable['CPP Type'] == 'Fixed').any() and media_variable.columns.str.contains('Fixed', regex=False).any():\n",
    "            if media_variable['Fixed CPP'].isna().any():\n",
    "                error1 = 'Fixed CPP Value Should Not be Null'\n",
    "                print(error1)\n",
    "\n",
    "            if (media_variable['Fixed CPP'] < 0).any():\n",
    "                error2 = 'Fixed CPP Value Should be greater than 0'\n",
    "                print(error2)\n",
    "\n",
    "    #             Validation for power\n",
    "        if (media_variable['CPP Type'] == 'Power').any() and media_variable.columns.str.contains('Power', regex=False).any():\n",
    "            if media_variable['Power - Slope of X'].isna().any():\n",
    "                error7 = 'Power - Slope of X Value Should Not be Null'\n",
    "                print(error7)\n",
    "            elif media_variable['Power - Alpha'].isna().any():\n",
    "                error8 = 'Power - Alpha Value Should Not be Null'\n",
    "                print(error8)\n",
    "\n",
    "            if (media_variable['Power - Slope of X'] < 0).any():\n",
    "                error9 = 'Power - Slope of X Value Should be greater than 0'\n",
    "                print(error9)\n",
    "            elif (media_variable['Power - Alpha'] <=0).any() and (media_variable['Power - Alpha'] >=1).any():\n",
    "                error10 = 'Power - Alpha Value Should be in 0 or 1'\n",
    "                print(error10)\n",
    "\n",
    "        #             Validation for Exponential\n",
    "        if (media_variable['CPP Type'] == 'Exponential').any() and media_variable.columns.str.contains('Exponential', regex=False).any():\n",
    "            if media_variable['Exponential - Slope of X'].isna().any():\n",
    "                error11 = 'Exponential - Slope of X Value Should Not be Null'\n",
    "                print(error11)\n",
    "            elif media_variable['Exponential - Alpha'].isna().any():\n",
    "                error12 = 'Exponential - Alpha Value Should Not be Null'\n",
    "                print(error12)\n",
    "\n",
    "            if (media_variable['Exponential - Slope of X'] < 0).any():\n",
    "                error13 = 'Exponential - Slope of X Value Should be greater than 0'\n",
    "                print(error13)\n",
    "            elif (media_variable['Exponential - Alpha'] < 0).any():\n",
    "                error14 = 'Exponential -  Alpha Value Should be greater than 0'\n",
    "                print(error14)\n",
    "\n",
    "         #             Validation for Quadratic\n",
    "        if (media_variable['CPP Type'] == 'Quadratic').any() and media_variable.columns.str.contains('Quadratic', regex=False).any():\n",
    "            if media_variable['Quadratic - Slope of X'].isna().any():\n",
    "                error15 = 'Quadratic - Slope of X Value Should Not be Null'\n",
    "                print(error15)\n",
    "            elif media_variable['Quadratic - Slope of X^2'].isna().any():\n",
    "                error16 = 'Quadratic - Slope of X^2 Value Should Not be Null'\n",
    "                print(error16)\n",
    "\n",
    "            slop_of_x = media_variable[media_variable['Quadratic - Slope of X'].apply(lambda x: isinstance(x, int))]\n",
    "            slop_of_xx = media_variable[media_variable['Quadratic - Slope of X^2'].apply(lambda x: isinstance(x, int))]\n",
    "            if not slop_of_x.empty:\n",
    "                error17 = 'Quadratic - Slope of X Value Should be Numeric'\n",
    "                print(error17)\n",
    "            if not slop_of_xx.empty:\n",
    "                error18 = 'Quadratic - Slope of X^2 Value Should be Numeric'\n",
    "                print(error18)\n",
    "\n",
    "\n",
    "    #     Validation For Liner Curve Type\n",
    "        if (media_variable['CPP Type'] == 'Linear').any() and media_variable.columns.str.contains('Linear', regex=False).any():\n",
    "            if media_variable['Linear - Slope of X'].isna().any():\n",
    "                error3 = 'Linear - Slope of X Value Should Not be Null'\n",
    "                print(error3)\n",
    "            if (media_variable['Linear - Slope of X'] < 0).any():\n",
    "                error4 = 'Linear - Slope of X Value Should be greater than 0'\n",
    "                print(error4)\n",
    "\n",
    "        # For Weekly \n",
    "        Weekly_df = media_variable[media_variable['CPP Type'].isin(['Weekly'])]\n",
    "        for col in Weekly_df[Weekly_df.columns[0]]:\n",
    "            if col in media_cpp.columns:\n",
    "                weekly_none_df = media_cpp[col].isna().any()\n",
    "                if not weekly_none_df:\n",
    "                    error5 = 'Weekly Media Variable {col} Should Not be Empty'.format(col=col)\n",
    "                    print(error5)\n",
    "                weekly_value = (media_cpp[col] > 0).any()\n",
    "                if not weekly_value:\n",
    "                    error6 = 'Weekly Media Variable {col} Should be greater then 0'.format(col=col)\n",
    "                    print(error6)\n",
    "    else:\n",
    "        raise Exception(\"There is an issue in the data of the uploaded file,\"\n",
    "                \"please try again\")\n",
    "\n",
    "\n",
    "        \n",
    "            \n",
    "\n",
    "                           \n",
    "        \n",
    "        \n",
    "   \n",
    "       "
   ]
  },
  {
   "cell_type": "code",
   "execution_count": 547,
   "id": "1df90e7a",
   "metadata": {},
   "outputs": [
    {
     "name": "stdout",
     "output_type": "stream",
     "text": [
      "Fixed CPP Value Should Not be Null\n",
      "Power - Slope of X Value Should Not be Null\n",
      "Exponential - Slope of X Value Should Not be Null\n",
      "Quadratic - Slope of X^2 Value Should Not be Null\n",
      "Linear - Slope of X Value Should Not be Null\n",
      "Weekly Media Variable 2019 Total US Social Instagram Product H Should be greater then 0\n",
      "Weekly Media Variable 2019 Total US Social Instagram Product I Should be greater then 0\n"
     ]
    }
   ],
   "source": [
    "validate_sheet(media_variable_cpp, media_cpp)"
   ]
  },
  {
   "cell_type": "code",
   "execution_count": 524,
   "id": "da3d7439",
   "metadata": {},
   "outputs": [
    {
     "data": {
      "text/plain": [
       "Index(['Media Variable', 'CPP Type', 'Fixed CPP', 'Linear - Slope of X',\n",
       "       'Power - Slope of X', 'Power - Alpha', 'Exponential - Slope of X',\n",
       "       'Exponential - Alpha', 'Quadratic - Slope of X',\n",
       "       'Quadratic - Slope of X^2'],\n",
       "      dtype='object')"
      ]
     },
     "execution_count": 524,
     "metadata": {},
     "output_type": "execute_result"
    }
   ],
   "source": [
    "media_variable_cpp.columns"
   ]
  },
  {
   "cell_type": "code",
   "execution_count": null,
   "id": "93559da3",
   "metadata": {},
   "outputs": [],
   "source": []
  },
  {
   "cell_type": "code",
   "execution_count": null,
   "id": "e760bfb3",
   "metadata": {},
   "outputs": [],
   "source": []
  }
 ],
 "metadata": {
  "kernelspec": {
   "display_name": "Python 3 (ipykernel)",
   "language": "python",
   "name": "python3"
  },
  "language_info": {
   "codemirror_mode": {
    "name": "ipython",
    "version": 3
   },
   "file_extension": ".py",
   "mimetype": "text/x-python",
   "name": "python",
   "nbconvert_exporter": "python",
   "pygments_lexer": "ipython3",
   "version": "3.7.0"
  }
 },
 "nbformat": 4,
 "nbformat_minor": 5
}
