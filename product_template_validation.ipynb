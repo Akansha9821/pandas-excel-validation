{
 "cells": [
  {
   "cell_type": "code",
   "execution_count": 1,
   "id": "77b47370",
   "metadata": {},
   "outputs": [],
   "source": [
    "import pandas as pd"
   ]
  },
  {
   "cell_type": "code",
   "execution_count": 2,
   "id": "27609e92",
   "metadata": {},
   "outputs": [],
   "source": [
    "# ind_prod = pd.read_excel('product.xlsx', engine='openpyxl', sheet_name=\"Independent Products\")\n",
    "# dep_prod = pd.read_excel('product.xlsx', engine='openpyxl', sheet_name=\"Dependent Products\")\n",
    "i2d_prod = pd.read_excel('product.xlsx', engine='openpyxl', sheet_name=\"Independent to Dependent\")"
   ]
  },
  {
   "cell_type": "code",
   "execution_count": 12,
   "id": "0f0795f9",
   "metadata": {},
   "outputs": [],
   "source": [
    "def validate_products(i2d_prod = None):\n",
    "    if not i2d_prod.empty:\n",
    "        errors = []\n",
    "    \n",
    "        for col in i2d_prod.columns:\n",
    "            check_string = i2d_prod[i2d_prod[col].apply(lambda x: isinstance(x, str))]\n",
    "            if check_string.empty:\n",
    "                check_string.apply(\n",
    "                    lambda x: errors.append(\n",
    "                    '{} of Independent to Dependent sheet should be string'.format(x[col]))\n",
    "                    , axis =1\n",
    "                        )\n",
    "            check_y_n = check_string['Include'].isin(['Y', 'N']).all()\n",
    "            print(check_y_n)\n",
    "            \n",
    "            for col in i2d_prod.columns[2::2]:\n",
    "                include_dtype=i2d_prod[i2d_prod[col].apply(lambda x: isinstance(x, str))]\n",
    "                t = include_dtype[col].isin(['Y', 'N']).all()\n",
    "                print(t)\n",
    "            \n",
    "            "
   ]
  },
  {
   "cell_type": "code",
   "execution_count": 13,
   "id": "98fffc56",
   "metadata": {},
   "outputs": [
    {
     "name": "stdout",
     "output_type": "stream",
     "text": [
      "False\n",
      "True\n",
      "False\n",
      "True\n",
      "True\n",
      "True\n",
      "True\n",
      "True\n"
     ]
    }
   ],
   "source": [
    "validate_products(i2d_prod)"
   ]
  },
  {
   "cell_type": "code",
   "execution_count": 292,
   "id": "3be5d057",
   "metadata": {},
   "outputs": [
    {
     "data": {
      "text/plain": [
       "0      S60\n",
       "1      S90\n",
       "2      V60\n",
       "3      V90\n",
       "4     XC40\n",
       "      ... \n",
       "60    XC40\n",
       "61    XC60\n",
       "62    XC90\n",
       "63     NaN\n",
       "64     NaN\n",
       "Name: Dependent Products, Length: 65, dtype: object"
      ]
     },
     "execution_count": 292,
     "metadata": {},
     "output_type": "execute_result"
    }
   ],
   "source": [
    "i2d_prod['Dependent Products']"
   ]
  },
  {
   "cell_type": "code",
   "execution_count": null,
   "id": "9842c0fd",
   "metadata": {},
   "outputs": [],
   "source": [
    "def validate_products(independent = None, dependent = None, i2d_prod = None):\n",
    "                errors = []\n",
    "                if not independent.empty or not dependent.empty or not i2d_prod.empty:\n",
    "        #         Validation for independent\n",
    "                    ind_dtype = independent[independent['Independent Products'].apply(lambda x: isinstance(x, str))]\n",
    "                    if ind_dtype.empty:\n",
    "                        ind_dtype.apply(\n",
    "                                lambda x: errors.append(\n",
    "                                '{} should be String'.\n",
    "                                format(x.IndependentProduct))\n",
    "                                , axis =1\n",
    "                        )     \n",
    "                        \n",
    "                    ind_unique = independent[independent['Independent Products'].duplicated()]\n",
    "                    if not ind_unique.empty:\n",
    "                        ind_unique.apply(\n",
    "                                lambda x: errors.append(\n",
    "                                '{} should be Unique'.\n",
    "                                format(x.IndependentProduct))\n",
    "                                , axis =1\n",
    "                        )     \n",
    "                        \n",
    "            #         validation for dependent\n",
    "                    dep_dtype = dependent[dependent['Dependent Products'].apply(lambda x: isinstance(x, str))]\n",
    "                    if dep_dtype.empty:\n",
    "                        dep_dtype.apply(\n",
    "                                lambda x: errors.append(\n",
    "                                '{} should be  string'.\n",
    "                                format(x.DependentProduct))\n",
    "                                , axis =1\n",
    "                        )   \n",
    "                        \n",
    "                    dep_unique = dependent[dependent['Dependent Products'].duplicated()]\n",
    "                    if not dep_unique.empty:\n",
    "                        dep_unique.apply(\n",
    "                                lambda x: errors.append(\n",
    "                                '{} should be unique'.\n",
    "                                format(x.DependentProduct))\n",
    "                                , axis =1\n",
    "                        )   \n",
    "                        \n",
    "            #      validation for independent to dependent\n",
    "                    for col in i2d_prod.columns[2::2]:\n",
    "                        include_dtype=i2d_prod[i2d_prod[col].apply(lambda x: isinstance(x, str))]\n",
    "                        if ~include_dtype[col].isin(['Y', 'N']).all():\n",
    "                            errors.append('{col} should be Y/N'.format(col=col))\n",
    "                            \n",
    "                    i2d_ind_dtype = i2d_prod[i2d_prod['Independent Products'].apply(lambda x: isinstance(x, str))]\n",
    "                    if i2d_ind_dtype.empty:\n",
    "                        i2d_ind_dtype.apply(\n",
    "                                lambda x: errors.append(\n",
    "                                '{} should be string'.\n",
    "                                format(x.IndependentProduct))\n",
    "                                , axis =1\n",
    "                        )   \n",
    "                    i2d_dep_dtype = i2d_prod[i2d_prod['Dependent Products'].apply(lambda x: isinstance(x, str))]\n",
    "                    if i2d_dep_dtype.empty:\n",
    "                        i2d_dep_dtype.apply(\n",
    "                                lambda x: errors.append(\n",
    "                                '{} should be string'.\n",
    "                                format(x.DependentProduct))\n",
    "                                , axis =1\n",
    "                        )  \n",
    "                    direct_dtype = i2d_prod[i2d_prod['Direct & Halo'].apply(lambda x: isinstance(x, str))]\n",
    "                    if direct_dtype.empty:\n",
    "                        direct_dtype.apply(\n",
    "                                lambda x: errors.append(\n",
    "                                '{} should be string'.\n",
    "                                format(x.Direct))\n",
    "                                , axis =1\n",
    "                        )  \n",
    "                \n",
    "                    if len(errors) > 0:\n",
    "                        messages.info(request,\n",
    "                      \"<ul>{}</ul>\".format(\"</ul><ul>\".join(errors)),\n",
    "                    extra_tags='alert alert-danger alert-dismissible'\n",
    "                    )\n",
    "                    raise Exception(\"There is an issue in the data of the uploaded file please try again\")\n",
    "                else:\n",
    "                    return True\n"
   ]
  }
 ],
 "metadata": {
  "kernelspec": {
   "display_name": "Python 3 (ipykernel)",
   "language": "python",
   "name": "python3"
  },
  "language_info": {
   "codemirror_mode": {
    "name": "ipython",
    "version": 3
   },
   "file_extension": ".py",
   "mimetype": "text/x-python",
   "name": "python",
   "nbconvert_exporter": "python",
   "pygments_lexer": "ipython3",
   "version": "3.7.0"
  }
 },
 "nbformat": 4,
 "nbformat_minor": 5
}
