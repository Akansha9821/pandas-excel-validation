{
 "cells": [
  {
   "cell_type": "code",
   "execution_count": 93,
   "id": "cdd5cf47",
   "metadata": {},
   "outputs": [],
   "source": [
    "l = ['1.216.154', '10.811', '485.0', '1,033,496.0','100', '100,100,100']"
   ]
  },
  {
   "cell_type": "code",
   "execution_count": 108,
   "id": "83b08f12",
   "metadata": {},
   "outputs": [],
   "source": [
    "import re\n",
    "def clean(i):\n",
    "    data = re.findall(r'(?<=\\d)[,\\.](?=\\d)', i)\n",
    "    if i and ',' in i:\n",
    "        return float(i.replace(',',''))\n",
    "    if data and data.count('.') > 1:\n",
    "        return float(i.replace('.',''))\n",
    "\n",
    "    if data and data[-1]=='.':\n",
    "        return float(i)\n",
    "    else:\n",
    "        return fi"
   ]
  },
  {
   "cell_type": "code",
   "execution_count": 110,
   "id": "6d259ecf",
   "metadata": {},
   "outputs": [
    {
     "name": "stdout",
     "output_type": "stream",
     "text": [
      "100100100.0\n"
     ]
    }
   ],
   "source": [
    "x = clean('100,100,100')\n",
    "print(x)"
   ]
  },
  {
   "cell_type": "code",
   "execution_count": null,
   "id": "e6a5f60f",
   "metadata": {},
   "outputs": [],
   "source": []
  },
  {
   "cell_type": "code",
   "execution_count": null,
   "id": "41312e78",
   "metadata": {},
   "outputs": [],
   "source": []
  }
 ],
 "metadata": {
  "kernelspec": {
   "display_name": "Python 3 (ipykernel)",
   "language": "python",
   "name": "python3"
  },
  "language_info": {
   "codemirror_mode": {
    "name": "ipython",
    "version": 3
   },
   "file_extension": ".py",
   "mimetype": "text/x-python",
   "name": "python",
   "nbconvert_exporter": "python",
   "pygments_lexer": "ipython3",
   "version": "3.7.0"
  }
 },
 "nbformat": 4,
 "nbformat_minor": 5
}
